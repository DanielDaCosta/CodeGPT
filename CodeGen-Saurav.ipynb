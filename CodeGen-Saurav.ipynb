{
  "cells": [
    {
      "cell_type": "code",
      "execution_count": null,
      "metadata": {
        "id": "xKpRfCAxfqCc"
      },
      "outputs": [],
      "source": [
        "%pip install transformers==4.25.1"
      ]
    },
    {
      "cell_type": "code",
      "execution_count": null,
      "metadata": {
        "id": "ddL8h4K1fr9y"
      },
      "outputs": [],
      "source": [
        "import torch\n",
        "from tqdm import tqdm\n",
        "torch.set_default_tensor_type(torch.cuda.FloatTensor)\n",
        "from transformers import AutoTokenizer, AutoModelForCausalLM"
      ]
    },
    {
      "cell_type": "markdown",
      "metadata": {
        "id": "BJolj8NXq8JM"
      },
      "source": [
        "## Load CodeGen Model"
      ]
    },
    {
      "cell_type": "code",
      "execution_count": null,
      "metadata": {
        "id": "UUq-rqNGOa0L"
      },
      "outputs": [],
      "source": [
        "tokenizer = AutoTokenizer.from_pretrained(\"Salesforce/codegen-2B-mono\")"
      ]
    },
    {
      "cell_type": "code",
      "execution_count": null,
      "metadata": {
        "id": "qVbReFJt0WqW"
      },
      "outputs": [],
      "source": [
        "model = AutoModelForCausalLM.from_pretrained(\"Salesforce/codegen-2B-mono\")"
      ]
    },
    {
      "cell_type": "markdown",
      "metadata": {
        "id": "hLNaBFYciJRn"
      },
      "source": [
        "## Sample 1"
      ]
    },
    {
      "cell_type": "code",
      "execution_count": null,
      "metadata": {
        "colab": {
          "base_uri": "https://localhost:8080/"
        },
        "id": "MPjeMZSFf1xe",
        "outputId": "51a9645f-404b-4092-faf3-6d6b53072074"
      },
      "outputs": [
        {
          "name": "stderr",
          "output_type": "stream",
          "text": [
            "Setting `pad_token_id` to `eos_token_id`:50256 for open-end generation.\n",
            "/usr/local/lib/python3.9/dist-packages/transformers/models/codegen/modeling_codegen.py:167: UserWarning: where received a uint8 condition tensor. This behavior is deprecated and will be removed in a future version of PyTorch. Use a boolean condition instead. (Triggered internally at ../aten/src/ATen/native/TensorCompare.cpp:493.)\n",
            "  attn_weights = torch.where(causal_mask, attn_weights, mask_value)\n"
          ]
        }
      ],
      "source": [
        "text_input = \"def hello_world():\"\n",
        "inputs = tokenizer(text_input, return_tensors=\"pt\").to(0)\n",
        "sample = model.generate(**inputs, max_length=128)"
      ]
    },
    {
      "cell_type": "code",
      "execution_count": null,
      "metadata": {
        "colab": {
          "base_uri": "https://localhost:8080/"
        },
        "id": "q-_J_RIpf9Lp",
        "outputId": "a7f8d062-c6da-4fde-ebf4-ee6e431907e0"
      },
      "outputs": [
        {
          "name": "stdout",
          "output_type": "stream",
          "text": [
            "def hello_world():\n",
            "    return 'Hello, world!'\n"
          ]
        }
      ],
      "source": [
        "print(tokenizer.decode(sample[0], truncate_before_pattern=[r\"\\n\\n^#\", \"^'''\", \"\\n\\n\\n\"]))"
      ]
    },
    {
      "cell_type": "markdown",
      "metadata": {
        "id": "tCqp4-lciLO2"
      },
      "source": [
        "## Sample 2"
      ]
    },
    {
      "cell_type": "code",
      "execution_count": null,
      "metadata": {
        "colab": {
          "base_uri": "https://localhost:8080/"
        },
        "id": "UZ44ihgShrcQ",
        "outputId": "98019ebc-08d8-4904-9bd2-69701c35c8eb"
      },
      "outputs": [
        {
          "name": "stderr",
          "output_type": "stream",
          "text": [
            "Setting `pad_token_id` to `eos_token_id`:50256 for open-end generation.\n"
          ]
        }
      ],
      "source": [
        "text_input = \"def remove_first_last_character():\"\n",
        "inputs = tokenizer(text_input, return_tensors=\"pt\").to(0)\n",
        "sample = model.generate(**inputs, max_length=128)"
      ]
    },
    {
      "cell_type": "code",
      "execution_count": null,
      "metadata": {
        "colab": {
          "base_uri": "https://localhost:8080/"
        },
        "id": "KLPVks29h3M6",
        "outputId": "24171f7f-3a1f-4f39-be65-ea2eec738cd2"
      },
      "outputs": [
        {
          "name": "stdout",
          "output_type": "stream",
          "text": [
            "def remove_first_last_character():\n",
            "    \"\"\"\n",
            "    Remove the first and last character of a string.\n",
            "    \"\"\"\n",
            "    # Get the input\n",
            "    input_string = input(\"Enter a string: \")\n",
            "\n",
            "    # Remove the first and last character\n",
            "    first_character = input_string[0]\n",
            "    last_character = input_string[-1]\n",
            "    new_string = input_string[1:-1]\n",
            "\n",
            "    # Display the result\n",
            "    print(\"The new string is:\", new_string)\n"
          ]
        }
      ],
      "source": [
        "print(tokenizer.decode(sample[0], truncate_before_pattern=[r\"\\n\\n^#\", \"^'''\", \"\\n\\n\\n\"]))"
      ]
    },
    {
      "cell_type": "markdown",
      "metadata": {
        "id": "t885hhBYko9G"
      },
      "source": [
        "## Sample 3"
      ]
    },
    {
      "cell_type": "code",
      "execution_count": null,
      "metadata": {
        "colab": {
          "base_uri": "https://localhost:8080/"
        },
        "id": "1XFi_mi9kqbU",
        "outputId": "ecbe4da3-cc56-4206-d209-78ab459f14d3"
      },
      "outputs": [
        {
          "name": "stderr",
          "output_type": "stream",
          "text": [
            "Setting `pad_token_id` to `eos_token_id`:50256 for open-end generation.\n"
          ]
        }
      ],
      "source": [
        "text_input = \"# Write a python function to remove first and last occurrence of a given character from the string.\"\n",
        "inputs = tokenizer(text_input, return_tensors=\"pt\").to(0)\n",
        "sample = model.generate(**inputs, max_length=128)"
      ]
    },
    {
      "cell_type": "code",
      "execution_count": null,
      "metadata": {
        "colab": {
          "base_uri": "https://localhost:8080/"
        },
        "id": "EuUw81BjksUP",
        "outputId": "d6943193-555a-4b99-a6ad-264601d75e6d"
      },
      "outputs": [
        {
          "name": "stdout",
          "output_type": "stream",
          "text": [
            "# Write a python function to remove first and last occurrence of a given character from the string.\n",
            "\n",
            "def remove_char(str, char):\n",
            "    return str.replace(char, \"\")\n",
            "\n",
            "print(remove_char(\"Hello World\", \"W\"))\n",
            "\n"
          ]
        }
      ],
      "source": [
        "print(tokenizer.decode(sample[0], truncate_before_pattern=[r\"\\n\\n^#\", \"^'''\", \"\\n\\n\\n\"]))"
      ]
    },
    {
      "cell_type": "markdown",
      "metadata": {
        "id": "JTBOEA-PmujY"
      },
      "source": [
        "## Sample 4"
      ]
    },
    {
      "cell_type": "code",
      "execution_count": null,
      "metadata": {
        "colab": {
          "base_uri": "https://localhost:8080/"
        },
        "id": "O5pQsr1VlL8i",
        "outputId": "86ec8297-b903-4add-e0e1-af0b04ff6139"
      },
      "outputs": [
        {
          "name": "stderr",
          "output_type": "stream",
          "text": [
            "Setting `pad_token_id` to `eos_token_id`:50256 for open-end generation.\n"
          ]
        }
      ],
      "source": [
        "text_input = \"# remove first and last occurence of a given character from a string\"\n",
        "inputs = tokenizer(text_input, return_tensors=\"pt\").to(0)\n",
        "sample = model.generate(**inputs, max_length=128)"
      ]
    },
    {
      "cell_type": "code",
      "execution_count": null,
      "metadata": {
        "colab": {
          "base_uri": "https://localhost:8080/"
        },
        "id": "06131BdulNZz",
        "outputId": "d8440e00-a405-4d1d-cf14-0ffc81cc5bee"
      },
      "outputs": [
        {
          "name": "stdout",
          "output_type": "stream",
          "text": [
            "# remove first and last occurence of a given character from a string\n",
            "#\n",
            "# Input:\n",
            "# str = \"geeksforgeeks\"\n",
            "# char = 'e'\n",
            "# Output:\n",
            "# 'kgeeksf'\n",
            "#\n",
            "# Input:\n",
            "# str = \"geeksforgeeks\"\n",
            "# char = 'g'\n",
            "# Output:\n",
            "# 'eeksforge'\n",
            "#\n",
            "# Input:\n",
            "# str = \"geeksforgeeks\"\n",
            "# char = 'k'\n",
            "# Output:\n",
            "# 'eeksforge'\n",
            "#\n",
            "# Input:\n",
            "# str = \"ge\n"
          ]
        }
      ],
      "source": [
        "print(tokenizer.decode(sample[0], truncate_before_pattern=[r\"\\n\\n^#\", \"^'''\", \"\\n\\n\\n\"]))"
      ]
    },
    {
      "cell_type": "markdown",
      "metadata": {
        "id": "B6CsEz_9rLmz"
      },
      "source": [
        "## Sample 5"
      ]
    },
    {
      "cell_type": "code",
      "execution_count": null,
      "metadata": {
        "colab": {
          "base_uri": "https://localhost:8080/"
        },
        "id": "m-15a9jDq9bO",
        "outputId": "7f045a68-8683-4e27-b4c5-be2a6da3bab8"
      },
      "outputs": [
        {
          "name": "stderr",
          "output_type": "stream",
          "text": [
            "Setting `pad_token_id` to `eos_token_id`:50256 for open-end generation.\n"
          ]
        }
      ],
      "source": [
        "text_input = \"# Write a function to remove characters from the first string which are present in the second string.\"\n",
        "inputs = tokenizer(text_input, return_tensors=\"pt\").to(0)\n",
        "sample = model.generate(**inputs, max_length=128)"
      ]
    },
    {
      "cell_type": "code",
      "execution_count": null,
      "metadata": {
        "colab": {
          "base_uri": "https://localhost:8080/"
        },
        "id": "zaOHcrL_rDt9",
        "outputId": "b61a6969-39a7-488c-a87b-244302c5bc11"
      },
      "outputs": [
        {
          "name": "stdout",
          "output_type": "stream",
          "text": [
            "# Write a function to remove characters from the first string which are present in the second string.\n"
          ]
        }
      ],
      "source": [
        "print(tokenizer.decode(sample[0], truncate_before_pattern=[r\"\\n\\n^#\", \"^'''\", \"\\n\\n\\n\"]))"
      ]
    },
    {
      "cell_type": "markdown",
      "metadata": {
        "id": "dqfb2IU9neIj"
      },
      "source": [
        "## Load MBPP dataset"
      ]
    },
    {
      "cell_type": "code",
      "execution_count": null,
      "metadata": {
        "id": "hr0TOLFRh8oR"
      },
      "outputs": [],
      "source": [
        "!pip install datasets"
      ]
    },
    {
      "cell_type": "code",
      "execution_count": null,
      "metadata": {
        "id": "7l3-PYcynj7K"
      },
      "outputs": [],
      "source": [
        "from datasets import load_dataset, concatenate_datasets"
      ]
    },
    {
      "cell_type": "code",
      "execution_count": null,
      "metadata": {
        "colab": {
          "base_uri": "https://localhost:8080/",
          "height": 84,
          "referenced_widgets": [
            "4578793e42d445e2a4a505fa6e66d93e",
            "4f4dac067f7c4db5b28c4ee4e29e8648",
            "da2cdd10eb6b4e059058a7b49f9df331",
            "77d6300b7b5047bf8daa85de7e54f249",
            "bb3f669906af406284fd3c5c3dc29192",
            "7e98cbeb68a24b2cbed87ca7b8d30264",
            "2ddac69ccb774d959b277484a585987d",
            "89260ab81492451596d611359f557a89",
            "d2485e989ea6404da0ab3e4c801ae333",
            "90954c48bf094cc286889f43aeb45213",
            "79bb32e76cdc4ac09c0bf1d6e12fcb5d"
          ]
        },
        "id": "CP--BqBbn8eu",
        "outputId": "7f0f2be4-d40d-4ece-b9bf-89d856b04aa3"
      },
      "outputs": [
        {
          "name": "stderr",
          "output_type": "stream",
          "text": [
            "WARNING:datasets.builder:No config specified, defaulting to: mbpp/full\n",
            "WARNING:datasets.builder:Found cached dataset mbpp (/root/.cache/huggingface/datasets/mbpp/full/1.0.2/4458a31cd4305553c8e88e3f0bfb94fc74fe1a9faeeb8c32ed166939735eaeff)\n"
          ]
        },
        {
          "data": {
            "application/vnd.jupyter.widget-view+json": {
              "model_id": "4578793e42d445e2a4a505fa6e66d93e",
              "version_major": 2,
              "version_minor": 0
            },
            "text/plain": [
              "  0%|          | 0/4 [00:00<?, ?it/s]"
            ]
          },
          "metadata": {},
          "output_type": "display_data"
        }
      ],
      "source": [
        "dataset = load_dataset('mbpp')"
      ]
    },
    {
      "cell_type": "code",
      "execution_count": null,
      "metadata": {
        "colab": {
          "base_uri": "https://localhost:8080/"
        },
        "id": "IaypxMSAoBtG",
        "outputId": "b6ca116a-f6da-4a06-e75a-610c2f9d4d50"
      },
      "outputs": [
        {
          "data": {
            "text/plain": [
              "(374, 500, 90, 10, 500)"
            ]
          },
          "execution_count": 18,
          "metadata": {},
          "output_type": "execute_result"
        }
      ],
      "source": [
        "train = dataset['train']\n",
        "test = dataset['test']\n",
        "validation = dataset['validation']\n",
        "prompt = dataset['prompt']\n",
        "# eval_dataset = concatenate_datasets([train, test, validation, prompt])\n",
        "eval_dataset = test\n",
        "\n",
        "len(train), len(test), len(validation), len(prompt), len(eval_dataset)"
      ]
    },
    {
      "cell_type": "code",
      "execution_count": null,
      "metadata": {
        "colab": {
          "base_uri": "https://localhost:8080/"
        },
        "id": "e7pT_jc9hLu3",
        "outputId": "fac0987d-5f0b-4e13-a9ed-e83af6692dd8"
      },
      "outputs": [
        {
          "data": {
            "text/plain": [
              "{'task_id': 18,\n",
              " 'text': 'Write a function to remove characters from the first string which are present in the second string.',\n",
              " 'code': \"NO_OF_CHARS = 256\\r\\ndef str_to_list(string): \\r\\n\\ttemp = [] \\r\\n\\tfor x in string: \\r\\n\\t\\ttemp.append(x) \\r\\n\\treturn temp \\r\\ndef lst_to_string(List): \\r\\n\\treturn ''.join(List) \\r\\ndef get_char_count_array(string): \\r\\n\\tcount = [0] * NO_OF_CHARS \\r\\n\\tfor i in string: \\r\\n\\t\\tcount[ord(i)] += 1\\r\\n\\treturn count \\r\\ndef remove_dirty_chars(string, second_string): \\r\\n\\tcount = get_char_count_array(second_string) \\r\\n\\tip_ind = 0\\r\\n\\tres_ind = 0\\r\\n\\ttemp = '' \\r\\n\\tstr_list = str_to_list(string) \\r\\n\\twhile ip_ind != len(str_list): \\r\\n\\t\\ttemp = str_list[ip_ind] \\r\\n\\t\\tif count[ord(temp)] == 0: \\r\\n\\t\\t\\tstr_list[res_ind] = str_list[ip_ind] \\r\\n\\t\\t\\tres_ind += 1\\r\\n\\t\\tip_ind+=1\\r\\n\\treturn lst_to_string(str_list[0:res_ind]) \",\n",
              " 'test_list': ['assert remove_dirty_chars(\"probasscurve\", \"pros\") == \\'bacuve\\'',\n",
              "  'assert remove_dirty_chars(\"digitalindia\", \"talent\") == \\'digiidi\\'',\n",
              "  'assert remove_dirty_chars(\"exoticmiles\", \"toxic\") == \\'emles\\' '],\n",
              " 'test_setup_code': '',\n",
              " 'challenge_test_list': []}"
            ]
          },
          "execution_count": 19,
          "metadata": {},
          "output_type": "execute_result"
        }
      ],
      "source": [
        "eval_dataset[7]"
      ]
    },
    {
      "cell_type": "markdown",
      "metadata": {
        "id": "6g0qHO5mq3ZZ"
      },
      "source": [
        "## Load Summarizer Model"
      ]
    },
    {
      "cell_type": "markdown",
      "metadata": {},
      "source": [
        "## Prediction"
      ]
    },
    {
      "cell_type": "code",
      "execution_count": null,
      "metadata": {
        "id": "kprUbHLkox6O"
      },
      "outputs": [],
      "source": [
        "pred_code = []\n",
        "gt = []\n",
        "tokenizer.add_special_tokens({'pad_token': '[PAD]'})\n",
        "for i in tqdm(range(len(eval_dataset))):\n",
        "  text = eval_dataset[i]['text']\n",
        "  gt_code = eval_dataset[i]['code']\n",
        "  test_list = eval_dataset[i]['test_list']\n",
        "  new_text = \"# \" + text\n",
        "  # for t in test_list:\n",
        "  #   new_text += t + \" \"\n",
        "  inputs = tokenizer(new_text, return_tensors=\"pt\").to(0)\n",
        "  sample = model.generate(**inputs, max_length=128)\n",
        "  output = tokenizer.batch_decode(sample, truncate_before_pattern=[r\"\\n\\n^#\", \"^'''\", \"\\n\\n\\n\"])[0]\n",
        "  pred_code.append(output)\n",
        "  gt.append(gt_code)"
      ]
    },
    {
      "cell_type": "code",
      "execution_count": null,
      "metadata": {
        "colab": {
          "base_uri": "https://localhost:8080/",
          "height": 35
        },
        "id": "UwJX5nY9fHfn",
        "outputId": "950f8a54-fc97-4913-e006-ce1adec1f26a"
      },
      "outputs": [
        {
          "data": {
            "application/vnd.google.colaboratory.intrinsic+json": {
              "type": "string"
            },
            "text/plain": [
              "'def find_Volume(l,b,h) : \\r\\n    return ((l * b * h) / 2) '"
            ]
          },
          "execution_count": 25,
          "metadata": {},
          "output_type": "execute_result"
        }
      ],
      "source": [
        "gt[3]"
      ]
    },
    {
      "cell_type": "code",
      "execution_count": null,
      "metadata": {
        "colab": {
          "base_uri": "https://localhost:8080/",
          "height": 70
        },
        "id": "B5kqR4ShzgqH",
        "outputId": "f7052298-4aea-470b-8245-516333d28fb4"
      },
      "outputs": [
        {
          "data": {
            "application/vnd.google.colaboratory.intrinsic+json": {
              "type": "string"
            },
            "text/plain": [
              "'# Write a python function to find the volume of a triangular prism.\\n# The function should accept the following inputs:\\n# a, b, c, d, e, f\\n# The function should return the volume of the prism.\\n# The volume of a prism is defined as:\\n# V = a * b * c\\n# where a, b, c are the lengths of the sides of the prism.\\n# Note: The prism is assumed to be a rectangular prism.\\n# Hint: You can use the product rule to calculate the volume.\\n# Input Format\\n# The first line contains the'"
            ]
          },
          "execution_count": 26,
          "metadata": {},
          "output_type": "execute_result"
        }
      ],
      "source": [
        "pred_code[3]"
      ]
    },
    {
      "cell_type": "code",
      "execution_count": null,
      "metadata": {
        "id": "u8pSqLfszmKh"
      },
      "outputs": [],
      "source": []
    }
  ],
  "metadata": {
    "accelerator": "GPU",
    "colab": {
      "provenance": []
    },
    "gpuClass": "standard",
    "kernelspec": {
      "display_name": "Python 3.8.10 ('codegpt': venv)",
      "language": "python",
      "name": "python3"
    },
    "language_info": {
      "name": "python",
      "version": "3.8.10"
    },
    "vscode": {
      "interpreter": {
        "hash": "99a38fea1a4ddc58c64871a51ddc951f57e1a2da8d4442d57e7bd5fcfe4dc76f"
      }
    },
    "widgets": {
      "application/vnd.jupyter.widget-state+json": {
        "2ddac69ccb774d959b277484a585987d": {
          "model_module": "@jupyter-widgets/controls",
          "model_module_version": "1.5.0",
          "model_name": "DescriptionStyleModel",
          "state": {
            "_model_module": "@jupyter-widgets/controls",
            "_model_module_version": "1.5.0",
            "_model_name": "DescriptionStyleModel",
            "_view_count": null,
            "_view_module": "@jupyter-widgets/base",
            "_view_module_version": "1.2.0",
            "_view_name": "StyleView",
            "description_width": ""
          }
        },
        "4578793e42d445e2a4a505fa6e66d93e": {
          "model_module": "@jupyter-widgets/controls",
          "model_module_version": "1.5.0",
          "model_name": "HBoxModel",
          "state": {
            "_dom_classes": [],
            "_model_module": "@jupyter-widgets/controls",
            "_model_module_version": "1.5.0",
            "_model_name": "HBoxModel",
            "_view_count": null,
            "_view_module": "@jupyter-widgets/controls",
            "_view_module_version": "1.5.0",
            "_view_name": "HBoxView",
            "box_style": "",
            "children": [
              "IPY_MODEL_4f4dac067f7c4db5b28c4ee4e29e8648",
              "IPY_MODEL_da2cdd10eb6b4e059058a7b49f9df331",
              "IPY_MODEL_77d6300b7b5047bf8daa85de7e54f249"
            ],
            "layout": "IPY_MODEL_bb3f669906af406284fd3c5c3dc29192"
          }
        },
        "4f4dac067f7c4db5b28c4ee4e29e8648": {
          "model_module": "@jupyter-widgets/controls",
          "model_module_version": "1.5.0",
          "model_name": "HTMLModel",
          "state": {
            "_dom_classes": [],
            "_model_module": "@jupyter-widgets/controls",
            "_model_module_version": "1.5.0",
            "_model_name": "HTMLModel",
            "_view_count": null,
            "_view_module": "@jupyter-widgets/controls",
            "_view_module_version": "1.5.0",
            "_view_name": "HTMLView",
            "description": "",
            "description_tooltip": null,
            "layout": "IPY_MODEL_7e98cbeb68a24b2cbed87ca7b8d30264",
            "placeholder": "​",
            "style": "IPY_MODEL_2ddac69ccb774d959b277484a585987d",
            "value": "100%"
          }
        },
        "77d6300b7b5047bf8daa85de7e54f249": {
          "model_module": "@jupyter-widgets/controls",
          "model_module_version": "1.5.0",
          "model_name": "HTMLModel",
          "state": {
            "_dom_classes": [],
            "_model_module": "@jupyter-widgets/controls",
            "_model_module_version": "1.5.0",
            "_model_name": "HTMLModel",
            "_view_count": null,
            "_view_module": "@jupyter-widgets/controls",
            "_view_module_version": "1.5.0",
            "_view_name": "HTMLView",
            "description": "",
            "description_tooltip": null,
            "layout": "IPY_MODEL_90954c48bf094cc286889f43aeb45213",
            "placeholder": "​",
            "style": "IPY_MODEL_79bb32e76cdc4ac09c0bf1d6e12fcb5d",
            "value": " 4/4 [00:00&lt;00:00, 54.42it/s]"
          }
        },
        "79bb32e76cdc4ac09c0bf1d6e12fcb5d": {
          "model_module": "@jupyter-widgets/controls",
          "model_module_version": "1.5.0",
          "model_name": "DescriptionStyleModel",
          "state": {
            "_model_module": "@jupyter-widgets/controls",
            "_model_module_version": "1.5.0",
            "_model_name": "DescriptionStyleModel",
            "_view_count": null,
            "_view_module": "@jupyter-widgets/base",
            "_view_module_version": "1.2.0",
            "_view_name": "StyleView",
            "description_width": ""
          }
        },
        "7e98cbeb68a24b2cbed87ca7b8d30264": {
          "model_module": "@jupyter-widgets/base",
          "model_module_version": "1.2.0",
          "model_name": "LayoutModel",
          "state": {
            "_model_module": "@jupyter-widgets/base",
            "_model_module_version": "1.2.0",
            "_model_name": "LayoutModel",
            "_view_count": null,
            "_view_module": "@jupyter-widgets/base",
            "_view_module_version": "1.2.0",
            "_view_name": "LayoutView",
            "align_content": null,
            "align_items": null,
            "align_self": null,
            "border": null,
            "bottom": null,
            "display": null,
            "flex": null,
            "flex_flow": null,
            "grid_area": null,
            "grid_auto_columns": null,
            "grid_auto_flow": null,
            "grid_auto_rows": null,
            "grid_column": null,
            "grid_gap": null,
            "grid_row": null,
            "grid_template_areas": null,
            "grid_template_columns": null,
            "grid_template_rows": null,
            "height": null,
            "justify_content": null,
            "justify_items": null,
            "left": null,
            "margin": null,
            "max_height": null,
            "max_width": null,
            "min_height": null,
            "min_width": null,
            "object_fit": null,
            "object_position": null,
            "order": null,
            "overflow": null,
            "overflow_x": null,
            "overflow_y": null,
            "padding": null,
            "right": null,
            "top": null,
            "visibility": null,
            "width": null
          }
        },
        "89260ab81492451596d611359f557a89": {
          "model_module": "@jupyter-widgets/base",
          "model_module_version": "1.2.0",
          "model_name": "LayoutModel",
          "state": {
            "_model_module": "@jupyter-widgets/base",
            "_model_module_version": "1.2.0",
            "_model_name": "LayoutModel",
            "_view_count": null,
            "_view_module": "@jupyter-widgets/base",
            "_view_module_version": "1.2.0",
            "_view_name": "LayoutView",
            "align_content": null,
            "align_items": null,
            "align_self": null,
            "border": null,
            "bottom": null,
            "display": null,
            "flex": null,
            "flex_flow": null,
            "grid_area": null,
            "grid_auto_columns": null,
            "grid_auto_flow": null,
            "grid_auto_rows": null,
            "grid_column": null,
            "grid_gap": null,
            "grid_row": null,
            "grid_template_areas": null,
            "grid_template_columns": null,
            "grid_template_rows": null,
            "height": null,
            "justify_content": null,
            "justify_items": null,
            "left": null,
            "margin": null,
            "max_height": null,
            "max_width": null,
            "min_height": null,
            "min_width": null,
            "object_fit": null,
            "object_position": null,
            "order": null,
            "overflow": null,
            "overflow_x": null,
            "overflow_y": null,
            "padding": null,
            "right": null,
            "top": null,
            "visibility": null,
            "width": null
          }
        },
        "90954c48bf094cc286889f43aeb45213": {
          "model_module": "@jupyter-widgets/base",
          "model_module_version": "1.2.0",
          "model_name": "LayoutModel",
          "state": {
            "_model_module": "@jupyter-widgets/base",
            "_model_module_version": "1.2.0",
            "_model_name": "LayoutModel",
            "_view_count": null,
            "_view_module": "@jupyter-widgets/base",
            "_view_module_version": "1.2.0",
            "_view_name": "LayoutView",
            "align_content": null,
            "align_items": null,
            "align_self": null,
            "border": null,
            "bottom": null,
            "display": null,
            "flex": null,
            "flex_flow": null,
            "grid_area": null,
            "grid_auto_columns": null,
            "grid_auto_flow": null,
            "grid_auto_rows": null,
            "grid_column": null,
            "grid_gap": null,
            "grid_row": null,
            "grid_template_areas": null,
            "grid_template_columns": null,
            "grid_template_rows": null,
            "height": null,
            "justify_content": null,
            "justify_items": null,
            "left": null,
            "margin": null,
            "max_height": null,
            "max_width": null,
            "min_height": null,
            "min_width": null,
            "object_fit": null,
            "object_position": null,
            "order": null,
            "overflow": null,
            "overflow_x": null,
            "overflow_y": null,
            "padding": null,
            "right": null,
            "top": null,
            "visibility": null,
            "width": null
          }
        },
        "bb3f669906af406284fd3c5c3dc29192": {
          "model_module": "@jupyter-widgets/base",
          "model_module_version": "1.2.0",
          "model_name": "LayoutModel",
          "state": {
            "_model_module": "@jupyter-widgets/base",
            "_model_module_version": "1.2.0",
            "_model_name": "LayoutModel",
            "_view_count": null,
            "_view_module": "@jupyter-widgets/base",
            "_view_module_version": "1.2.0",
            "_view_name": "LayoutView",
            "align_content": null,
            "align_items": null,
            "align_self": null,
            "border": null,
            "bottom": null,
            "display": null,
            "flex": null,
            "flex_flow": null,
            "grid_area": null,
            "grid_auto_columns": null,
            "grid_auto_flow": null,
            "grid_auto_rows": null,
            "grid_column": null,
            "grid_gap": null,
            "grid_row": null,
            "grid_template_areas": null,
            "grid_template_columns": null,
            "grid_template_rows": null,
            "height": null,
            "justify_content": null,
            "justify_items": null,
            "left": null,
            "margin": null,
            "max_height": null,
            "max_width": null,
            "min_height": null,
            "min_width": null,
            "object_fit": null,
            "object_position": null,
            "order": null,
            "overflow": null,
            "overflow_x": null,
            "overflow_y": null,
            "padding": null,
            "right": null,
            "top": null,
            "visibility": null,
            "width": null
          }
        },
        "d2485e989ea6404da0ab3e4c801ae333": {
          "model_module": "@jupyter-widgets/controls",
          "model_module_version": "1.5.0",
          "model_name": "ProgressStyleModel",
          "state": {
            "_model_module": "@jupyter-widgets/controls",
            "_model_module_version": "1.5.0",
            "_model_name": "ProgressStyleModel",
            "_view_count": null,
            "_view_module": "@jupyter-widgets/base",
            "_view_module_version": "1.2.0",
            "_view_name": "StyleView",
            "bar_color": null,
            "description_width": ""
          }
        },
        "da2cdd10eb6b4e059058a7b49f9df331": {
          "model_module": "@jupyter-widgets/controls",
          "model_module_version": "1.5.0",
          "model_name": "FloatProgressModel",
          "state": {
            "_dom_classes": [],
            "_model_module": "@jupyter-widgets/controls",
            "_model_module_version": "1.5.0",
            "_model_name": "FloatProgressModel",
            "_view_count": null,
            "_view_module": "@jupyter-widgets/controls",
            "_view_module_version": "1.5.0",
            "_view_name": "ProgressView",
            "bar_style": "success",
            "description": "",
            "description_tooltip": null,
            "layout": "IPY_MODEL_89260ab81492451596d611359f557a89",
            "max": 4,
            "min": 0,
            "orientation": "horizontal",
            "style": "IPY_MODEL_d2485e989ea6404da0ab3e4c801ae333",
            "value": 4
          }
        }
      }
    }
  },
  "nbformat": 4,
  "nbformat_minor": 0
}
